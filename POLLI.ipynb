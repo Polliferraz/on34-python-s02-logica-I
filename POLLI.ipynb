{
  "nbformat": 4,
  "nbformat_minor": 0,
  "metadata": {
    "colab": {
      "provenance": [],
      "authorship_tag": "ABX9TyOjbJtBXwKlQ3ZeZvrBwxdW",
      "include_colab_link": true
    },
    "kernelspec": {
      "name": "python3",
      "display_name": "Python 3"
    },
    "language_info": {
      "name": "python"
    }
  },
  "cells": [
    {
      "cell_type": "markdown",
      "metadata": {
        "id": "view-in-github",
        "colab_type": "text"
      },
      "source": [
        "<a href=\"https://colab.research.google.com/github/Polliferraz/on34-python-s02-logica-I/blob/main/POLLI.ipynb\" target=\"_parent\"><img src=\"https://colab.research.google.com/assets/colab-badge.svg\" alt=\"Open In Colab\"/></a>"
      ]
    },
    {
      "cell_type": "code",
      "execution_count": null,
      "metadata": {
        "id": "dgiZx9shGYNA"
      },
      "outputs": [],
      "source": [
        "#Exercício da calculadora e identificação se o resultaod é par\n",
        "n1 = float(input('Digite 1° número:'))\n",
        "n2 = float(input('Digite 2° número:'))\n",
        "soma = n1 + n2\n",
        "impar = soma % 2\n",
        "subt = n1 - n2\n",
        "impar = subt % 2\n",
        "multi = n1 * n2\n",
        "impar = multi % 2\n",
        "div = n1 / n2\n",
        "impar = div % 2\n",
        "poten = n1 ** n2\n",
        "impar = poten % 2\n",
        "print('O resultado da soma é', soma,', é', bool(impar), 'que esse número é impar')\n",
        "print('A subtração do primeiro pelo segundo número é {},' .format(subt), 'é', bool(impar), 'que esse número é impar.')\n",
        "print('A multiplicação dos número é {},' .format(multi), 'é', bool(impar), 'que esse número é impar.')\n",
        "print('A divisão do primeiro pelo segundo número é {},' .format(div), 'é', bool(impar), 'que esse número é impar.')\n",
        "print('A potência do primeiro pelo segundo número é {},' .format(poten), 'é', bool(impar), 'que esse número é impar.')"
      ]
    },
    {
      "cell_type": "code",
      "source": [
        "#Conversor de metro para centímetros\n",
        "metro = float(input('Digite o comprimento em metros:'))\n",
        "def converter(metro):\n",
        "    cm = (metro * 100)\n",
        "    return cm\n",
        "cm = converter(metro)\n",
        "print('A conversão de {} metros para centímetros é {:.1f}.'.format(metro, cm))"
      ],
      "metadata": {
        "id": "pff26yUnH3j1"
      },
      "execution_count": null,
      "outputs": []
    },
    {
      "cell_type": "code",
      "source": [
        "# Área do cículo\n",
        "import math\n",
        "# 𝐴=𝜋𝑟^2\n",
        "r = float(input('Digite o raio em cm:'))\n",
        "pi = math.pi\n",
        "def calculo_area(pi, r):\n",
        "    A = pi * (r**2)\n",
        "    return A\n",
        "A = calculo_area(pi, r)\n",
        "print('A área do cículo é aproximadamente {:.2f}cm.' .format(A))"
      ],
      "metadata": {
        "id": "ms-Kj1zkIQem"
      },
      "execution_count": null,
      "outputs": []
    },
    {
      "cell_type": "code",
      "source": [
        "#Área do terreno\n",
        "lado = float(input('Digite o comprimento do lado (m):'))\n",
        "def calcular_area(lado):\n",
        "    area = (lado ** 2)\n",
        "    return area\n",
        "area = calcular_area(lado)\n",
        "dobro = area * 2\n",
        "\n",
        "print('A área do terreno quadrado é {:.2f} m. \\nO dobro dessa área é {:.2f} m.'.format(area, dobro))"
      ],
      "metadata": {
        "id": "RTFvl4ujIl9R"
      },
      "execution_count": null,
      "outputs": []
    },
    {
      "cell_type": "code",
      "source": [
        "#Conversor de temperatura °F para °C\n",
        "Fahrenheit = float(input('Informe a temperatura da obra em graus Fahrenheit:'))\n",
        "def converte(Fahrenheit):\n",
        "    Celcius = ((Fahrenheit - 32) / 1.8)\n",
        "    return Celcius\n",
        "Celsius = converte(Fahrenheit)\n",
        "print('{:.2f} °C'.format(Celsius))"
      ],
      "metadata": {
        "id": "ExyoM2yLJWbl"
      },
      "execution_count": null,
      "outputs": []
    },
    {
      "cell_type": "code",
      "source": [
        "#Converso de °C paara °F\n",
        "Celcius = float(input('Informe a temperatura da obra em graus Celcius:'))\n",
        "def converte(Celcius):\n",
        "    Fahrenheit = ((Celcius * 1.8) + 32)\n",
        "    return Fahrenheit\n",
        "Fahrenheit = converte(Celcius)\n",
        "print('A temperatura na obra é de {:.2f} °F'.format(Fahrenheit))"
      ],
      "metadata": {
        "id": "EN2UUCoRJaX3"
      },
      "execution_count": null,
      "outputs": []
    },
    {
      "cell_type": "code",
      "source": [
        "#Calculo do salário bruto\n",
        "n = float(input('Número de trabalhadores necessários para a obra:'))\n",
        "valor_hora = float(input('Valor da hora de trabalho por obreiro:'))\n",
        "hora_mês = float(input('Digite o número de horas trabalhada por mês:'))\n",
        "def cal_hora_trab(valor_hora, hora_mês):\n",
        "    salario_bruto = valor_hora * hora_mês\n",
        "    return salario_bruto\n",
        "salario_bruto = cal_hora_trab(valor_hora, hora_mês)\n",
        "custo_total = salario_bruto * n\n",
        "print('Salário bruto por obreiro é R$ {:.2f}. \\nO custo total da obra com salários é R$ {:.2f} ' .format(salario_bruto, custo_total))\n",
        "\n"
      ],
      "metadata": {
        "id": "lEYp-B7YK92G"
      },
      "execution_count": null,
      "outputs": []
    },
    {
      "cell_type": "code",
      "source": [
        "#Calculo do salário liquído\n",
        "# P.S. Esse eu fiz a maior parte sozinha, mas qd deu erro eu colei ele no chatGPD\n",
        "# e perguntei o que estava errado. Assim consegui corrigir.\n",
        "# #Entradas\n",
        "valor_hora = float(input('Valor da hora de trabalho por obreiro:'))\n",
        "hora_mês = float(input('Digite o número de horas trabalhada por mês:'))\n",
        "\n",
        "#constantes\n",
        "INSS = 8\n",
        "Sind = 5\n",
        "\n",
        "#Funções\n",
        "def cal_hora_trab(valor_hora, hora_mês):\n",
        "    salario_bruto = valor_hora * hora_mês\n",
        "    return salario_bruto\n",
        "\n",
        "def cal_INSS(salario_bruto, INSS):\n",
        "    DescINSS = (salario_bruto * INSS) / 100\n",
        "    return DescINSS\n",
        "\n",
        "def cal_sind(salario_bruto, sind):\n",
        "    Desc_sind = (salario_bruto * Sind) / 100\n",
        "    return Desc_sind\n",
        "\n",
        "def cal_leao(salario_bruto):\n",
        "    if salario_bruto <= 2259.20:\n",
        "        IR = 0\n",
        "    elif salario_bruto >=2259.21 and 2826.65:\n",
        "        IR = 7.5\n",
        "    elif salario_bruto >=2826.66 and 3751.05:\n",
        "        IR = 15\n",
        "    elif salario_bruto >=3751.06 and 4664.68:\n",
        "        IR = 22.5\n",
        "    else:\n",
        "        IR = 27.5\n",
        "    desc_leao = (salario_bruto * IR) / 100\n",
        "    return desc_leao, IR\n",
        "\n",
        "# Cálculos\n",
        "salario_bruto = cal_hora_trab(valor_hora, hora_mês)\n",
        "desc_INSS = cal_INSS(salario_bruto, INSS)\n",
        "desc_sind = cal_sind(salario_bruto, Sind)\n",
        "desc_leao, IR = cal_leao(salario_bruto)\n",
        "\n",
        "salario_liquido = salario_bruto - desc_INSS - desc_sind - desc_leao\n",
        "print('- Salário Bruto: R$ {} \\n - IR ({} %): R$ {} \\n - INSS (8 %): R$ {} \\n - Sindicato (5 %): R$ {} \\n = Salário Liquido: R$ {}' .format(salario_bruto, IR, desc_leao, desc_INSS, desc_sind, salario_liquido))\n",
        "\n",
        "\n"
      ],
      "metadata": {
        "id": "3pCLVruPK-7q"
      },
      "execution_count": null,
      "outputs": []
    },
    {
      "cell_type": "markdown",
      "source": [
        "README.md\n",
        "Instruções referente aos arquivos .py na pasta Polli.\n",
        "\n",
        "1. Calculadora: refere-se ao exercício para casa da semana 02 (S02), que consite em:\n",
        "\n",
        "1.1 Receber dois números; e\n",
        "    a. somar\n",
        "    b. subtrair, o primeiro pelo segundo:\n",
        "    c. multiplicar:\n",
        "    d. dividir, o primeiro pelo segundo:\n",
        "    e. potenciação, o primeiro pelo segundo:\n",
        "    f. Informar se o número resultante de cada operação é ímpar.\n",
        "\n",
        "Para resolução foi utilizados os seguintes operadores aritiméticos:    \n",
        "\n",
        "| Descrição     | Operador   | exemplo   |\n",
        "|------------   |------------|-----------|\n",
        "| soma          |      +     |   3 + 3   |\n",
        "| subtração     |      -     |   4 - 3   |\n",
        "| multiplicação |      *     |   5 * 8   |\n",
        "| divisão       |      /     |  10 / 2   |\n",
        "| potenciação   |     **     |  5 ** 2   |\n",
        "| módulo(resto)*|      %     |  10 % 3   |\n",
        "\n",
        "* O módulo resto foi utilizado para indocar se o resultado era ímpar.\n",
        "\n",
        "Também foi utilizada a váriável boleana.\n",
        "\n",
        "2. Conversor_metro: exercício extra, conversor de metros em centímetros (S02):\n",
        "    a. Receber comprimento:\n",
        "    b. Converter de metros para centímetros\n",
        "    c. Apresentar saída com o valor de entrada e o valor convertido.\n",
        "\n",
        "Para resolução foram usados as funções embutidas:\n",
        "float, input e print\n",
        "Assim como as funções em bloco de código, e a operação aritimética de multiplicação.\n",
        "\n",
        "3. Área_círculo: exercício extra, cáculo da área de um círculo (S02):\n",
        "    a. Receber raio do círculo:\n",
        "    b. Apresentar saída com a sua área.\n",
        "\n",
        "Para resolução foram usados as funções embutidas:\n",
        "float, input e print;\n",
        "A biblioteca math;\n",
        "Assim como as funções em bloco de código, e a operação aritimética de potenciação.\n",
        "\n",
        "4. Área_terreno: exercício extra, calculo da área de uma terreno quadrado (S02):\n",
        "    a. Receber comprimento do lado do quadrado:\n",
        "    b. Apresentar saída com a sua área e o dobro dela.\n",
        "    \n",
        "Para resolução foram usados as funções embutidas:\n",
        "float, input e print;\n",
        "Assim como as funções em bloco de código, a operação aritimética de potenciação e multiplicação.\n",
        "\n",
        "5. F_para_C: exercício extra, conversão da temperatura em graus Fahrenheit para graus Celsius:\n",
        "    a. Receber temperatura em graus Fahrenheit:\n",
        "    b. Converter temperatura para graus Celcius.\n",
        "\n",
        "Para resolução foram usados as funções embutidas:\n",
        "float, input e print;\n",
        "Assim como as funções em bloco de código, as operaçòes aritimética de multiplicação e adição.\n",
        "\n",
        "6. C_para_F: exercício extra, conversão da temperatura em graus Celcius para graus Fahrenheit:\n",
        "    a. Receber temperatura em graus Celcius:\n",
        "    b. Converter temperatura para graus Fahrenheit.\n",
        "\n",
        "Para resolução foram usados as funções embutidas:\n",
        "float, input e print;\n",
        "Assim como as funções em bloco de código, as operaçòes aritiméticas de subtração e divisão.\n",
        "\n",
        "\n",
        "7. Hora_trabalho: exercício extra, calculadora das horas de trabalho dos obreiros\n",
        "    a. Receber a quantidade de trabalhadores para a obra, quanto cada um ganha por hora, e as horas trabalhadas por mês:\n",
        "    b. Calcule o valor bruto do salário final de um obreiro, e o custo total de salários de todos os obreiros para o mês referido.\n",
        "\n",
        "Para resolução foram usados as funções embutidas:\n",
        "float, input e print;\n",
        "Assim como as funções em bloco de código, e a operação aritimética de multiplicação.\n",
        "\n",
        "8. Salario_liquido: Calculadora do salário líquido de um obreiro\n",
        "    a. Pergunte quanto um obreiro ganha por hora e o número de horas trabalhadas no mês:\n",
        "    b. De acordo com a tabela do IR de 2024, e considerando que a contribuição ao INSS é de 8%, e ao Sindicato é 5%, retorne a seguinte saída:\n",
        "\n",
        "+ Salário Bruto : R$ XXXX.XX\n",
        "- IR (X%) : R$ XXXX.XX\n",
        "- INSS (8%) : R$ XXXX.XX\n",
        "- Sindicato ( 5%) : R$ XXXX.XX\n",
        "= Salário Liquido : R$ XXXX.XX\n",
        "Substitua o que está em X pelo valor adequado\n",
        "Caso o trabalhador não tenha a renda mínima para o IR, printe o valor em R$ 0.00\n",
        "\n",
        "Para resolução foram usados as funções embutidas:\n",
        "float, input e print;\n",
        "A tabela de IR de 2024\n",
        "Assim como as funções em bloco de código, integrada com a condição \"if\", e as operaçòes aritiméticas de multiplicação, divisão e subtração.\n"
      ],
      "metadata": {
        "id": "mlhbDj2dLrEL"
      }
    }
  ]
}